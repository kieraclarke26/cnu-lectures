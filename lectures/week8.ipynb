{
 "cells": [
  {
   "cell_type": "code",
   "execution_count": null,
   "metadata": {},
   "outputs": [],
   "source": [
    "#sum of weights = 2"
   ]
  },
  {
   "cell_type": "markdown",
   "metadata": {},
   "source": [
    "Week 7 workshop \n",
    "\n",
    "dP/dt = kP(1 - P/K) - m      \n",
    "\n",
    "y'(x) = f(y(x))     *\n",
    "\n",
    "substitue dP/dt with forward difference approximation\n",
    "\n",
    "FD: y'(x) ~= (y(x+h) - y(x))/h\n",
    "\n",
    "substitute into *\n",
    "\n",
    "obtain:  y(x+h) ~= h*f(y(x)) + y(x)\n",
    "\n",
    "\n",
    "Integrating * over [x, x+h]\n",
    "\n",
    "LHS = y(x+h) - y(x)\n",
    "\n",
    "RHS ~= (by left riemann)  h * f(y(x))\n",
    "\n",
    "hence, LHS ~= RHS : y(x+h) ~= h*f(y(x)) + y(x)  (the same as above!!)\n"
   ]
  },
  {
   "cell_type": "code",
   "execution_count": null,
   "metadata": {},
   "outputs": [],
   "source": []
  },
  {
   "cell_type": "markdown",
   "metadata": {},
   "source": []
  }
 ],
 "metadata": {
  "language_info": {
   "name": "python"
  }
 },
 "nbformat": 4,
 "nbformat_minor": 2
}
