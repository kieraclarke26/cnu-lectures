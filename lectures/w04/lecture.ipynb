{
 "cells": [
  {
   "cell_type": "code",
   "execution_count": 13,
   "metadata": {},
   "outputs": [
    {
     "name": "stdout",
     "output_type": "stream",
     "text": [
      "[[0.20220518]\n",
      " [0.04835369]\n",
      " [0.53088206]\n",
      " [0.31745791]\n",
      " [0.60015197]]\n"
     ]
    }
   ],
   "source": [
    "import numpy as np\n",
    "n = 5 \n",
    "A = np.random.random((n,n))\n",
    "y = np.random.random((n, 1))\n",
    "\n",
    "print(y)"
   ]
  },
  {
   "cell_type": "code",
   "execution_count": 14,
   "metadata": {},
   "outputs": [
    {
     "ename": "ValueError",
     "evalue": "could not broadcast input array from shape (5,1) into shape (5,)",
     "output_type": "error",
     "traceback": [
      "\u001b[0;31m---------------------------------------------------------------------------\u001b[0m",
      "\u001b[0;31mValueError\u001b[0m                                Traceback (most recent call last)",
      "Cell \u001b[0;32mIn[14], line 13\u001b[0m\n\u001b[1;32m      9\u001b[0m     S[:,\u001b[38;5;241m-\u001b[39m\u001b[38;5;241m1\u001b[39m] \u001b[38;5;241m=\u001b[39m y \u001b[38;5;66;03m#the final column of S is the vector y\u001b[39;00m\n\u001b[1;32m     11\u001b[0m     \u001b[38;5;28;01mreturn\u001b[39;00m S\n\u001b[0;32m---> 13\u001b[0m \u001b[38;5;28mprint\u001b[39m(\u001b[43mbuild_S\u001b[49m\u001b[43m(\u001b[49m\u001b[43mA\u001b[49m\u001b[43m,\u001b[49m\u001b[43my\u001b[49m\u001b[43m)\u001b[49m)\n",
      "Cell \u001b[0;32mIn[14], line 9\u001b[0m, in \u001b[0;36mbuild_S\u001b[0;34m(A, y)\u001b[0m\n\u001b[1;32m      6\u001b[0m S \u001b[38;5;241m=\u001b[39m np\u001b[38;5;241m.\u001b[39mzeros((m, n\u001b[38;5;241m+\u001b[39m\u001b[38;5;241m1\u001b[39m))   \u001b[38;5;66;03m#m rows, n+1 columns\u001b[39;00m\n\u001b[1;32m      8\u001b[0m S[:,:\u001b[38;5;241m-\u001b[39m\u001b[38;5;241m1\u001b[39m] \u001b[38;5;241m=\u001b[39m A \u001b[38;5;66;03m# all columns up to and including n are matrix A\u001b[39;00m\n\u001b[0;32m----> 9\u001b[0m \u001b[43mS\u001b[49m\u001b[43m[\u001b[49m\u001b[43m:\u001b[49m\u001b[43m,\u001b[49m\u001b[38;5;241;43m-\u001b[39;49m\u001b[38;5;241;43m1\u001b[39;49m\u001b[43m]\u001b[49m \u001b[38;5;241m=\u001b[39m y \u001b[38;5;66;03m#the final column of S is the vector y\u001b[39;00m\n\u001b[1;32m     11\u001b[0m \u001b[38;5;28;01mreturn\u001b[39;00m S\n",
      "\u001b[0;31mValueError\u001b[0m: could not broadcast input array from shape (5,1) into shape (5,)"
     ]
    }
   ],
   "source": [
    "\n",
    "\n",
    "# builds matrix of matrix A then y in last column\n",
    "\n",
    "def build_S(A,y):\n",
    "    m,n = A.shape\n",
    "\n",
    "    S = np.zeros((m, n+1))   #m rows, n+1 columns\n",
    "\n",
    "    S[:,:-1] = A # all columns up to and including n are matrix A\n",
    "    S[:,-1] = y #the final column of S is the vector y\n",
    "\n",
    "    return S\n",
    "\n",
    "print(build_S(A,y))"
   ]
  },
  {
   "cell_type": "code",
   "execution_count": 9,
   "metadata": {},
   "outputs": [
    {
     "name": "stdout",
     "output_type": "stream",
     "text": [
      "[[1.         0.62773245 0.10420162 0.56694388 0.64039877 0.        ]\n",
      " [0.74608745 0.39840683 0.70141678 0.53876989 0.46300714 0.        ]\n",
      " [0.46011937 0.65856741 0.72736864 0.12162838 0.40590005 0.        ]\n",
      " [0.76297182 0.29293376 0.86801977 0.48043443 0.87941213 0.        ]\n",
      " [0.95745079 0.06374678 0.65467054 0.53162401 0.10375289 0.        ]]\n"
     ]
    }
   ],
   "source": [
    "S = build_S(A, y)\n",
    "\n",
    "S[0] /= S[0,0]    # row 0 (1st row) divided by 1st element\n",
    "print(S)"
   ]
  },
  {
   "cell_type": "code",
   "execution_count": null,
   "metadata": {},
   "outputs": [],
   "source": [
    "S = build_S(A, y)\n",
    "\n",
    "j = 0\n",
    "\n",
    "S[j] /= S[j,j]\n",
    "\n",
    " for k in range(1, n):\n",
    " S[k]"
   ]
  }
 ],
 "metadata": {
  "kernelspec": {
   "display_name": "base",
   "language": "python",
   "name": "python3"
  },
  "language_info": {
   "codemirror_mode": {
    "name": "ipython",
    "version": 3
   },
   "file_extension": ".py",
   "mimetype": "text/x-python",
   "name": "python",
   "nbconvert_exporter": "python",
   "pygments_lexer": "ipython3",
   "version": "3.11.7"
  }
 },
 "nbformat": 4,
 "nbformat_minor": 2
}
