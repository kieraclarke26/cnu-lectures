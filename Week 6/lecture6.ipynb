{
 "cells": [
  {
   "cell_type": "code",
   "execution_count": null,
   "metadata": {},
   "outputs": [],
   "source": []
  },
  {
   "cell_type": "markdown",
   "metadata": {},
   "source": [
    "#### Translation and scaling\n",
    "\n",
    "To simplify computations, quadrature rules are usually defined over the **reference interval** $[-1, 1]$. Then, an integral over some arbitrary interval $[a, b]$ can be obtained by translation and scaling using a change of variable, letting\n",
    "\n",
    "$$\n",
    "y = \\frac{b-a}{2} \\left(x+1\\right) + a \\qquad \\Rightarrow \\qquad dy = \\frac{b-a}{2} dx.\n",
    "$$\n",
    "\n",
    "We therefore have\n",
    "\n",
    "\\begin{align}\n",
    "\\int_a^b f(y) \\ dy &= \\frac{b-a}{2} \\int_{-1}^1 f\\left(\\frac{b-a}{2} \\left(x+1\\right) + a\\right) \\ dx \\\\\n",
    "& \\approx \\frac{b-a}{2} \\sum_{k=0}^{N-1} w_k f(y_k), \\qquad \\text{with } y_k = \\frac{b-a}{2} \\left(x_k+1\\right) + a, \\quad k=0, \\dots, N-1.\n",
    "\\end{align}"
   ]
  },
  {
   "cell_type": "markdown",
   "metadata": {},
   "source": [
    "trapezoid rule \n",
    "reference interval:   x0 = -1, x1 = 1\n",
    "weights: w0 = 1, w1 = 1"
   ]
  },
  {
   "cell_type": "code",
   "execution_count": 13,
   "metadata": {},
   "outputs": [],
   "source": [
    "import numpy as np\n",
    "\n",
    "def quadrature(f, xk, wk, a, b):\n",
    "    '''\n",
    "    Approximates the integral of f over [a, b],\n",
    "    using the quadrature rule with weights wk\n",
    "    and nodes xk.\n",
    "    \n",
    "    Input:\n",
    "    f (function): function to integrate (as a Python function object)\n",
    "    xk (Numpy array): vector containing all nodes\n",
    "    wk (Numpy array): vector containing all weights\n",
    "    a (float): left boundary of the interval\n",
    "    b (float): right boundary of the interval\n",
    "    \n",
    "    Returns:\n",
    "    I_approx (float): the approximate value of the integral\n",
    "        of f over [a, b], using the quadrature rule.\n",
    "    '''\n",
    "    # Define the shifted and scaled nodes\n",
    "    yk = (b-a)/2 * (xk + 1) + a\n",
    "    \n",
    "    # Compute the weighted sum\n",
    "    I_approx = (b-a)/2 * np.sum(wk * f(yk))\n",
    "    \n",
    "    return I_approx"
   ]
  },
  {
   "cell_type": "code",
   "execution_count": 7,
   "metadata": {},
   "outputs": [
    {
     "data": {
      "text/plain": [
       "<function matplotlib.pyplot.show(close=None, block=None)>"
      ]
     },
     "execution_count": 7,
     "metadata": {},
     "output_type": "execute_result"
    },
    {
     "data": {
      "image/png": "[encoded data removed]",
      "text/plain": [
       "<Figure size 640x480 with 1 Axes>"
      ]
     },
     "metadata": {},
     "output_type": "display_data"
    }
   ],
   "source": [
    "import matplotlib.pyplot as plt\n",
    "\n",
    "\n",
    "# choose a test function (noy polynomial) which we know integral of \n",
    "\n",
    "def f(x):\n",
    "    return np.arctan(x)\n",
    "\n",
    "def F(x):\n",
    "    '''\n",
    "    Exact value for the indefinite integral of f(x) = arctan(x)\n",
    "    '''\n",
    "    return  \n",
    "\n",
    "fig, ax = plt.subplots()\n",
    "x = np.linspace(-5, 5, 200)\n",
    "ax.plot(x, f(x))\n",
    "plt.show"
   ]
  },
  {
   "cell_type": "markdown",
   "metadata": {},
   "source": [
    "#### $N = 3$: Simpson's rule\n",
    "\n",
    "The \"closed\" quadrature with $N=3$ nodes is known as Simpson's rule. The three nodes are\n",
    "\n",
    "$$\n",
    "x_0 = -1, \\quad x_1 = 0, \\quad x_2 = 1.\n",
    "$$\n",
    "\n",
    "The interpolating polynomial passing through the points $(-1, f(-1))$, $(0, f(0))$, $(1, f(1))$ is a parabola (degree 2), so Simpson's rule approximates the integral by computing the blue surface below.\n",
    "\n",
    "![Simpson's rule.](graphics/simpson.png)\n"
   ]
  },
  {
   "cell_type": "markdown",
   "metadata": {},
   "source": [
    "Since we have 3 nodes, the degree of precision is at least 2, so the midpoint rule integrates polynomials of degree up to 2 exactly. Therefore we must have\n",
    "\n",
    "$ \\int_{-1}^1 1 \\ dx = 2 = w_0 + w_1 + w_2, $$ $$ \\int_{-1}^1 x \\ dx = 0 = -w_0 + 0 + w_2, $$ $$ \\int_{-1}^1 x^2 \\ dx = \\frac{2}{3} = w_0 + 0 + w_2. $\n",
    "\n",
    "The second equation gives $w_0 = w_2$, the third then gives $w_0 = w_2 = \\frac{1}{3}$. Substituting into the first equation, we get $w_1 = \\frac{4}{3}$."
   ]
  },
  {
   "cell_type": "markdown",
   "metadata": {},
   "source": [
    "### 🚩 Definition: Rate of convergence of composite rules\n",
    "\n",
    "\n",
    "Using a composite quadrature rule with sub-intervals with sufficiently small width $h$, we have\n",
    "\n",
    "$$\n",
    "E = \\alpha h^r,\n",
    "$$\n",
    "\n",
    "where $\\alpha$ is some constant, and $r$ is the **rate of convergence** of the composite method. We say that the method is of *order* $r$.\n",
    "E is the error of the integrals "
   ]
  },
  {
   "cell_type": "code",
   "execution_count": 15,
   "metadata": {},
   "outputs": [
    {
     "ename": "ValueError",
     "evalue": "operands could not be broadcast together with shapes (4,) (3,) ",
     "output_type": "error",
     "traceback": [
      "\u001b[0;31m---------------------------------------------------------------------------\u001b[0m",
      "\u001b[0;31mValueError\u001b[0m                                Traceback (most recent call last)",
      "Cell \u001b[0;32mIn[15], line 32\u001b[0m\n\u001b[1;32m     30\u001b[0m     I_approx \u001b[38;5;241m=\u001b[39m \u001b[38;5;241m0\u001b[39m\n\u001b[1;32m     31\u001b[0m     \u001b[38;5;28;01mfor\u001b[39;00m i \u001b[38;5;129;01min\u001b[39;00m \u001b[38;5;28mrange\u001b[39m(M):\n\u001b[0;32m---> 32\u001b[0m         I_approx \u001b[38;5;241m+\u001b[39m\u001b[38;5;241m=\u001b[39m \u001b[43mquadrature\u001b[49m\u001b[43m(\u001b[49m\u001b[43mf\u001b[49m\u001b[43m,\u001b[49m\u001b[43m \u001b[49m\u001b[43mxk\u001b[49m\u001b[43m,\u001b[49m\u001b[43m \u001b[49m\u001b[43mwk\u001b[49m\u001b[43m,\u001b[49m\u001b[43m \u001b[49m\u001b[43mc\u001b[49m\u001b[43m[\u001b[49m\u001b[43mi\u001b[49m\u001b[43m]\u001b[49m\u001b[43m,\u001b[49m\u001b[43m \u001b[49m\u001b[43mc\u001b[49m\u001b[43m[\u001b[49m\u001b[43mi\u001b[49m\u001b[38;5;241;43m+\u001b[39;49m\u001b[38;5;241;43m1\u001b[39;49m\u001b[43m]\u001b[49m\u001b[43m)\u001b[49m\n\u001b[1;32m     34\u001b[0m     I_approx_vals\u001b[38;5;241m.\u001b[39mappend(I_approx)\n\u001b[1;32m     36\u001b[0m I_exact \u001b[38;5;241m=\u001b[39m F(b) \u001b[38;5;241m-\u001b[39m F(a)\n",
      "Cell \u001b[0;32mIn[13], line 24\u001b[0m, in \u001b[0;36mquadrature\u001b[0;34m(f, xk, wk, a, b)\u001b[0m\n\u001b[1;32m     21\u001b[0m yk \u001b[38;5;241m=\u001b[39m (b\u001b[38;5;241m-\u001b[39ma)\u001b[38;5;241m/\u001b[39m\u001b[38;5;241m2\u001b[39m \u001b[38;5;241m*\u001b[39m (xk \u001b[38;5;241m+\u001b[39m \u001b[38;5;241m1\u001b[39m) \u001b[38;5;241m+\u001b[39m a\n\u001b[1;32m     23\u001b[0m \u001b[38;5;66;03m# Compute the weighted sum\u001b[39;00m\n\u001b[0;32m---> 24\u001b[0m I_approx \u001b[38;5;241m=\u001b[39m (b\u001b[38;5;241m-\u001b[39ma)\u001b[38;5;241m/\u001b[39m\u001b[38;5;241m2\u001b[39m \u001b[38;5;241m*\u001b[39m np\u001b[38;5;241m.\u001b[39msum(\u001b[43mwk\u001b[49m\u001b[43m \u001b[49m\u001b[38;5;241;43m*\u001b[39;49m\u001b[43m \u001b[49m\u001b[43mf\u001b[49m\u001b[43m(\u001b[49m\u001b[43myk\u001b[49m\u001b[43m)\u001b[49m)\n\u001b[1;32m     26\u001b[0m \u001b[38;5;28;01mreturn\u001b[39;00m I_approx\n",
      "\u001b[0;31mValueError\u001b[0m: operands could not be broadcast together with shapes (4,) (3,) "
     ]
    }
   ],
   "source": [
    "# Simpsons rule\n",
    "xk = np.array([-1, 0, 1])\n",
    "wk = np.array([1/3, 4/3, 1,3])\n",
    "\n",
    "# choose some interval\n",
    "a, b = 0, 4\n",
    "\n",
    "\n",
    "# Choosee some values of h (width of subinterval)\n",
    "# M is no of subintervals\n",
    "#M = [2**k for k in range(2,11)]\n",
    "M_vals = np.logspace(2,10, base=2, dtype =int)\n",
    "\n",
    "h_vals = (b -a ) / M_vals\n",
    "#print(h_vals)\n",
    "\n",
    "\n",
    "\n",
    "#calculate integral for all different vals of h \n",
    "\n",
    "I_approx_vals = []\n",
    "for M in M_vals:\n",
    "    # Calculate the integral using the composite rule\n",
    "    # The quardrature defined above gives the intergal over one sub interval so we need sum - need to know boundarys of each subinterval\n",
    "\n",
    "    # Calculate bounds of each subpartition\n",
    "    c = np.linspace(a, b, M+1)\n",
    "\n",
    "    # Sum up integral approxiamted over subiterval\n",
    "    I_approx = 0\n",
    "    for i in range(M):\n",
    "        I_approx += quadrature(f, xk, wk, c[i], c[i+1])\n",
    "\n",
    "    I_approx_vals.append(I_approx)\n",
    "\n",
    "I_exact = F(b) - F(a)\n",
    "error = np.abs(I_exact - np.array(I_approx_vals))\n",
    "print(error)\n",
    "\n",
    "fig, ax = plt.subplots()\n",
    "ax.plot(np.log(h_vals), np.log(error), 'x')\n",
    "ax.set(xlabel = 'log(h)', ylabel = 'log(error)')\n",
    "plt.show()\n",
    "\n",
    "# Find the slope (=r)\n",
    "#Fit a polynomial degree 1 (a line) through all data points\n",
    "coeffs = np.polyfit(np.log(h_vals), np.log(error), 1)\n",
    "print(f'r = coeffs{0}')\n",
    "\n",
    "#SO rate of convergence of simpsons rule is 4\n",
    "\n",
    "#To find for any other rule, just need to chane the nodes and weights defined\n",
    "\n",
    "\n",
    "    \n",
    "\n"
   ]
  },
  {
   "cell_type": "code",
   "execution_count": null,
   "metadata": {},
   "outputs": [],
   "source": []
  }
 ],
 "metadata": {
  "kernelspec": {
   "display_name": "base",
   "language": "python",
   "name": "python3"
  },
  "language_info": {
   "codemirror_mode": {
    "name": "ipython",
    "version": 3
   },
   "file_extension": ".py",
   "mimetype": "text/x-python",
   "name": "python",
   "nbconvert_exporter": "python",
   "pygments_lexer": "ipython3",
   "version": "3.11.7"
  }
 },
 "nbformat": 4,
 "nbformat_minor": 2
}
